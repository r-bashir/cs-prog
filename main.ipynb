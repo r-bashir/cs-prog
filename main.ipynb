{
 "cells": [
  {
   "cell_type": "markdown",
   "id": "03e0d8ab-5f7a-4dfa-a533-031bc7e78f2e",
   "metadata": {},
   "source": [
    "### CS Program"
   ]
  },
  {
   "cell_type": "code",
   "execution_count": 12,
   "id": "9e5cb784-934b-4445-af75-a4d3f8aaaa98",
   "metadata": {},
   "outputs": [
    {
     "name": "stdout",
     "output_type": "stream",
     "text": [
      "Hello World!\n"
     ]
    }
   ],
   "source": [
    "print(\"Hello World!\")"
   ]
  },
  {
   "cell_type": "code",
   "execution_count": 13,
   "id": "4c79821e-0b34-4c40-844c-9ea87ec2cf8a",
   "metadata": {},
   "outputs": [
    {
     "name": "stdin",
     "output_type": "stream",
     "text": [
      "What is your name: rabia bashir\n"
     ]
    }
   ],
   "source": [
    "name = input('What is your name:')"
   ]
  },
  {
   "cell_type": "code",
   "execution_count": 14,
   "id": "48bc2471-9aff-48fa-85b5-4fa891312853",
   "metadata": {},
   "outputs": [
    {
     "name": "stdout",
     "output_type": "stream",
     "text": [
      "Hi rabia bashir\n"
     ]
    }
   ],
   "source": [
    "print('Hi ' + name)"
   ]
  },
  {
   "cell_type": "code",
   "execution_count": 15,
   "id": "f45aacd4-6a45-4c23-b8b6-8465d952eaf9",
   "metadata": {},
   "outputs": [
    {
     "name": "stdin",
     "output_type": "stream",
     "text": [
      "weight_lbs;  160\n"
     ]
    }
   ],
   "source": [
    "weight_lbs = input('weight_lbs; ')"
   ]
  },
  {
   "cell_type": "code",
   "execution_count": 26,
   "id": "dc7b987c-e71b-4c65-8871-5a64ec799ba2",
   "metadata": {},
   "outputs": [
    {
     "name": "stdout",
     "output_type": "stream",
     "text": [
      "72.0\n"
     ]
    }
   ],
   "source": [
    "weight_kgs = int(weight_lbs)*0.45\n",
    "print(weight_kgs)"
   ]
  },
  {
   "cell_type": "code",
   "execution_count": 30,
   "id": "1538cf41-6a18-4eaa-a064-1bbd96fdfb20",
   "metadata": {},
   "outputs": [
    {
     "name": "stdout",
     "output_type": "stream",
     "text": [
      "Rabia[Bashir]is a coder\n"
     ]
    }
   ],
   "source": [
    "first = 'Rabia'\n",
    "last = 'Bashir'\n",
    "message = first +  '[' + last + ']' + 'is a coder'\n",
    "print(message)"
   ]
  },
  {
   "cell_type": "code",
   "execution_count": 32,
   "id": "1af55a81-ffbb-4be6-b6e1-7465c71f9665",
   "metadata": {},
   "outputs": [
    {
     "name": "stdout",
     "output_type": "stream",
     "text": [
      "Rabia [Bashir] is a coder.\n"
     ]
    }
   ],
   "source": [
    "first = 'Rabia'\n",
    "last = 'Bashir'\n",
    "message = f'{first} [{last}] is a coder.'\n",
    "print(message)"
   ]
  }
 ],
 "metadata": {
  "kernelspec": {
   "display_name": "Python 3 (ipykernel)",
   "language": "python",
   "name": "python3"
  },
  "language_info": {
   "codemirror_mode": {
    "name": "ipython",
    "version": 3
   },
   "file_extension": ".py",
   "mimetype": "text/x-python",
   "name": "python",
   "nbconvert_exporter": "python",
   "pygments_lexer": "ipython3",
   "version": "3.8.13"
  }
 },
 "nbformat": 4,
 "nbformat_minor": 5
}
